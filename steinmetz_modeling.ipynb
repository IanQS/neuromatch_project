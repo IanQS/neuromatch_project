{
  "nbformat": 4,
  "nbformat_minor": 0,
  "metadata": {
    "colab": {
      "provenance": [],
      "authorship_tag": "ABX9TyMMh28YuVm1/apj0EWT3tNU",
      "include_colab_link": true
    },
    "kernelspec": {
      "name": "python3",
      "display_name": "Python 3"
    },
    "language_info": {
      "name": "python"
    }
  },
  "cells": [
    {
      "cell_type": "markdown",
      "metadata": {
        "id": "view-in-github",
        "colab_type": "text"
      },
      "source": [
        "<a href=\"https://colab.research.google.com/github/IanQS/neuromatch_project/blob/main/steinmetz_modeling.ipynb\" target=\"_parent\"><img src=\"https://colab.research.google.com/assets/colab-badge.svg\" alt=\"Open In Colab\"/></a>"
      ]
    },
    {
      "cell_type": "markdown",
      "source": [
        "# Modeling of the Steinmetz dataset\n",
        "\n",
        "- uses [Neuromatch Load Steinmetz Decisions](https://colab.research.google.com/github/NeuromatchAcademy/course-content/blob/main/projects/neurons/load_steinmetz_decisions.ipynb#scrollTo=DJ-jzsE5eLxX) as a base"
      ],
      "metadata": {
        "id": "IDojqX3X1w30"
      }
    },
    {
      "cell_type": "code",
      "execution_count": 1,
      "metadata": {
        "id": "K0fUDdS41qWU",
        "colab": {
          "base_uri": "https://localhost:8080/"
        },
        "outputId": "fb8f94f0-ca79-4717-bc2d-6dd6f2edf147"
      },
      "outputs": [
        {
          "output_type": "stream",
          "name": "stdout",
          "text": [
            "\u001b[?25l     \u001b[90m━━━━━━━━━━━━━━━━━━━━━━━━━━━━━━━━━━━━━━━━\u001b[0m \u001b[32m0.0/1.6 MB\u001b[0m \u001b[31m?\u001b[0m eta \u001b[36m-:--:--\u001b[0m\r\u001b[2K     \u001b[90m━━━━━━━━━━━━━━━━━━━━━━━━━━━━━━━━━━━━━━━━\u001b[0m \u001b[32m0.0/1.6 MB\u001b[0m \u001b[31m?\u001b[0m eta \u001b[36m-:--:--\u001b[0m\r\u001b[2K     \u001b[91m━\u001b[0m\u001b[90m╺\u001b[0m\u001b[90m━━━━━━━━━━━━━━━━━━━━━━━━━━━━━━━━━━━━━━\u001b[0m \u001b[32m0.0/1.6 MB\u001b[0m \u001b[31m803.6 kB/s\u001b[0m eta \u001b[36m0:00:02\u001b[0m\r\u001b[2K     \u001b[91m━━━━━━━━━━\u001b[0m\u001b[90m╺\u001b[0m\u001b[90m━━━━━━━━━━━━━━━━━━━━━━━━━━━━━\u001b[0m \u001b[32m0.4/1.6 MB\u001b[0m \u001b[31m5.0 MB/s\u001b[0m eta \u001b[36m0:00:01\u001b[0m\r\u001b[2K     \u001b[91m━━━━━━━━━━━━━━━━━━━━━━━━━━━━━━━━━━━━━━━\u001b[0m\u001b[91m╸\u001b[0m \u001b[32m1.6/1.6 MB\u001b[0m \u001b[31m14.5 MB/s\u001b[0m eta \u001b[36m0:00:01\u001b[0m\r\u001b[2K     \u001b[90m━━━━━━━━━━━━━━━━━━━━━━━━━━━━━━━━━━━━━━━━\u001b[0m \u001b[32m1.6/1.6 MB\u001b[0m \u001b[31m10.6 MB/s\u001b[0m eta \u001b[36m0:00:00\u001b[0m\n",
            "\u001b[?25htime: 387 µs (started: 2023-07-19 23:30:30 +00:00)\n"
          ]
        }
      ],
      "source": [
        "import numpy as np\n",
        "import matplotlib.pyplot as plt\n",
        "from scipy.stats import zscore\n",
        "from sklearn.decomposition import PCA\n",
        "import concurrent.futures\n",
        "from multiprocessing import Pool\n",
        "\n",
        "!pip install -q ipython-autotime\n",
        "%load_ext autotime"
      ]
    },
    {
      "cell_type": "code",
      "source": [
        "# @title Data Downloading And Stacking\n",
        "import os, requests\n",
        "\n",
        "fname = []\n",
        "for j in range(3):\n",
        "  fname.append('steinmetz_part%d.npz'%j)\n",
        "url = [\"https://osf.io/agvxh/download\"]\n",
        "url.append(\"https://osf.io/uv3mw/download\")\n",
        "url.append(\"https://osf.io/ehmw2/download\")\n",
        "\n",
        "for j in range(len(url)):\n",
        "  if not os.path.isfile(fname[j]):\n",
        "    try:\n",
        "      r = requests.get(url[j])\n",
        "    except requests.ConnectionError:\n",
        "      print(\"!!! Failed to download data !!!\")\n",
        "    else:\n",
        "      if r.status_code != requests.codes.ok:\n",
        "        print(\"!!! Failed to download data !!!\")\n",
        "      else:\n",
        "        with open(fname[j], \"wb\") as fid:\n",
        "          fid.write(r.content)\n",
        "\n",
        "all_ds = np.array([])\n",
        "for j in range(len(fname)):\n",
        "  all_ds = np.hstack((all_ds,\n",
        "                      np.load('steinmetz_part%d.npz'%j,\n",
        "                              allow_pickle=True)['dat']))"
      ],
      "metadata": {
        "colab": {
          "base_uri": "https://localhost:8080/"
        },
        "cellView": "form",
        "id": "SNH_c8UKVK84",
        "outputId": "9f7bc2b3-3c6d-4120-9e79-d037357ff69f"
      },
      "execution_count": 2,
      "outputs": [
        {
          "output_type": "stream",
          "name": "stdout",
          "text": [
            "time: 51.5 s (started: 2023-07-19 23:30:30 +00:00)\n"
          ]
        }
      ]
    },
    {
      "cell_type": "markdown",
      "source": [
        "# Dataset Description\n",
        "\n",
        "(taken and modified from the Neuromatch Load Steinmetz Decisions notebook)\n",
        "\n",
        "## High-level\n",
        "\n",
        "`all_ds` contains 39 sessions from 10 mice, data from Steinmetz et al, 2019. Time bins for all measurements are 10ms, starting 500ms before stimulus onset. The mouse had to determine which side has the highest contrast. For each `curr_ds = all_ds[k]`, you have the fields below. For extra variables, check out the extra notebook and extra data files (lfp, waveforms and exact spike times, non-binned).\n",
        "\n",
        "## Fields present (not all are used)\n",
        "\n",
        "* `curr_ds['mouse_name']`: mouse name\n",
        "* `curr_ds['date_exp']`: when a session was performed\n",
        "* `curr_ds['spks']`: neurons by trials by time bins.    \n",
        "* `curr_ds['brain_area']`: brain area for each neuron recorded.\n",
        "* `curr_ds['ccf']`: Allen Institute brain atlas coordinates for each neuron.\n",
        "* `curr_ds['ccf_axes']`: axes names for the Allen CCF.\n",
        "* `curr_ds['contrast_right']`: contrast level for the right stimulus, which is always contralateral to the recorded brain areas.\n",
        "* `curr_ds['contrast_left']`: contrast level for left stimulus.\n",
        "* `curr_ds['gocue']`: when the go cue sound was played.\n",
        "* `curr_ds['response_time']`: when the response was registered, which has to be after the go cue. The mouse can turn the wheel before the go cue (and nearly always does!), but the stimulus on the screen won't move before the go cue.  \n",
        "* `curr_ds['response']`: which side the response was (`-1`, `0`, `1`). When the right-side stimulus had higher contrast, the correct choice was `-1`. `0` is a no go response.\n",
        "* `curr_ds['feedback_time']`: when feedback was provided.\n",
        "* `curr_ds['feedback_type']`: if the feedback was positive (`+1`, reward) or negative (`-1`, white noise burst).  \n",
        "* `curr_ds['wheel']`: turning speed of the wheel that the mice uses to make a response, sampled at `10ms`.\n",
        "* `curr_ds['pupil']`: pupil area  (noisy, because pupil is very small) + pupil horizontal and vertical position.\n",
        "* `curr_ds['face']`: average face motion energy from a video camera.\n",
        "* `curr_ds['licks']`: lick detections, 0 or 1.   \n",
        "* `curr_ds['trough_to_peak']`: measures the width of the action potential waveform for each neuron. Widths `<=10` samples are \"putative fast spiking neurons\".\n",
        "* `curr_ds['%X%_passive']`: same as above for `X` = {`spks`, `pupil`, `wheel`, `contrast_left`, `contrast_right`} but for  passive trials at the end of the recording when the mouse was no longer engaged and stopped making responses.\n",
        "* `curr_ds['prev_reward']`: time of the feedback (reward/white noise) on the previous trial in relation to the current stimulus time.\n",
        "* `curr_ds['reaction_time']`: ntrials by 2. First column: reaction time computed from the wheel movement as the first sample above `5` ticks/10ms bin. Second column: direction of the wheel movement (`0` = no move detected).  \n",
        "\n",
        "\n",
        "The original dataset is here: https://figshare.com/articles/dataset/Dataset_from_Steinmetz_et_al_2019/9598406"
      ],
      "metadata": {
        "id": "6R9YTk2nlj57"
      }
    },
    {
      "cell_type": "code",
      "source": [],
      "metadata": {
        "id": "3wl6yxConO9Q"
      },
      "execution_count": null,
      "outputs": []
    },
    {
      "cell_type": "code",
      "source": [
        "regions = [\"vis ctx\", \"thal\", \"hipp\", \"other ctx\", \"midbrain\", \"basal ganglia\", \"cortical subplate\", \"other\"]\n",
        "region_colors = ['blue', 'red', 'green', 'darkblue', 'violet', 'lightblue', 'orange', 'gray']\n",
        "brain_groups = [[\"VISa\", \"VISam\", \"VISl\", \"VISp\", \"VISpm\", \"VISrl\"],  # visual cortex\n",
        "                [\"CL\", \"LD\", \"LGd\", \"LH\", \"LP\", \"MD\", \"MG\", \"PO\", \"POL\", \"PT\", \"RT\", \"SPF\", \"TH\", \"VAL\", \"VPL\", \"VPM\"], # thalamus\n",
        "                [\"CA\", \"CA1\", \"CA2\", \"CA3\", \"DG\", \"SUB\", \"POST\"],  # hippocampal\n",
        "                [\"ACA\", \"AUD\", \"COA\", \"DP\", \"ILA\", \"MOp\", \"MOs\", \"OLF\", \"ORB\", \"ORBm\", \"PIR\", \"PL\", \"SSp\", \"SSs\", \"RSP\",\"TT\"],  # non-visual cortex\n",
        "                [\"APN\", \"IC\", \"MB\", \"MRN\", \"NB\", \"PAG\", \"RN\", \"SCs\", \"SCm\", \"SCig\", \"SCsg\", \"ZI\"],  # midbrain\n",
        "                [\"ACB\", \"CP\", \"GPe\", \"LS\", \"LSc\", \"LSr\", \"MS\", \"OT\", \"SNr\", \"SI\"],  # basal ganglia\n",
        "                [\"BLA\", \"BMA\", \"EP\", \"EPd\", \"MEA\"]  # cortical subplate\n",
        "                ]\n",
        "\n",
        "# Assign each area an index\n",
        "area_to_index = dict(root=0)\n",
        "counter = 1\n",
        "for group in brain_groups:\n",
        "    for area in group:\n",
        "        area_to_index[area] = counter\n",
        "        counter += 1\n",
        "\n",
        "# Figure out which areas are in each dataset\n",
        "areas_by_dataset = np.zeros((counter, len(all_ds)), dtype=bool)\n",
        "for j, d in enumerate(all_ds):\n",
        "    for area in np.unique(d['brain_area']):\n",
        "        i = area_to_index[area]\n",
        "        areas_by_dataset[i, j] = True\n"
      ],
      "metadata": {
        "colab": {
          "base_uri": "https://localhost:8080/"
        },
        "id": "R-TrPD1RaSdE",
        "outputId": "5cee8796-bd5d-43ff-dfd1-698855606a0b"
      },
      "execution_count": 3,
      "outputs": [
        {
          "output_type": "stream",
          "name": "stdout",
          "text": [
            "time: 7.95 ms (started: 2023-07-19 23:31:22 +00:00)\n"
          ]
        }
      ]
    },
    {
      "cell_type": "code",
      "source": [
        "DATASET_IDX = 11\n",
        "curr_ds = all_ds[DATASET_IDX]\n",
        "\n",
        "dt = curr_ds[\"bin_size\"]\n",
        "NUM_NEURONS_RECORDED = curr_ds[\"spks\"].shape[0]\n",
        "NUM_TRIALS = curr_ds[\"spks\"].shape[1]\n",
        "NUM_BINNED_TIMES = curr_ds[\"spks\"].shape[2]\n",
        "\n",
        "if DATASET_IDX != 11:\n",
        "    raise Exception(\"Code is only meant for DATASET_IDX=11\")\n",
        "else:\n",
        "    NUM_REGIONS = 4\n",
        "    NUM_NEURONS_RECORDED = len(curr_ds[\"brain_area\"])  # The string idx version of\n",
        "\n",
        "brain_subregions = NUM_REGIONS * np.ones(NUM_NEURONS_RECORDED, )  # last one is \"other\"\n",
        "for j in range(NUM_REGIONS):\n",
        "  brain_subregions[\n",
        "      np.isin(curr_ds['brain_area'], brain_groups[j])\n",
        "      ] = j  # assign a number to each region\n"
      ],
      "metadata": {
        "colab": {
          "base_uri": "https://localhost:8080/"
        },
        "id": "UKkzVgrtaUIK",
        "outputId": "68443813-7b4a-422c-e4fd-c98182e9d601"
      },
      "execution_count": 25,
      "outputs": [
        {
          "output_type": "stream",
          "name": "stdout",
          "text": [
            "time: 2.47 ms (started: 2023-07-19 23:46:41 +00:00)\n"
          ]
        }
      ]
    },
    {
      "cell_type": "markdown",
      "source": [
        "# Creating the dataset"
      ],
      "metadata": {
        "id": "YWUD2SeXvb79"
      }
    },
    {
      "cell_type": "code",
      "source": [
        "LABELS = curr_ds[\"response\"]  # RIGHT - NO_GO - LEFT (-1, 0, 1)\n",
        "y = LABELS"
      ],
      "metadata": {
        "colab": {
          "base_uri": "https://localhost:8080/"
        },
        "id": "KdR8dZCikHnf",
        "outputId": "35962b1d-d8db-44e0-d52f-cf8e4980ca0b"
      },
      "execution_count": 5,
      "outputs": [
        {
          "output_type": "stream",
          "name": "stdout",
          "text": [
            "time: 568 µs (started: 2023-07-19 23:31:22 +00:00)\n"
          ]
        }
      ]
    },
    {
      "cell_type": "code",
      "source": [
        "def log_shapes():\n",
        "    _ds = curr_ds['spks']\n",
        "    print(f\"All spikes shape: {_ds.shape}\")\n",
        "    _ds_brain_region = _ds[brain_subregions == 0]\n",
        "    print(f\"\\t- Spike shape for sample brain region (0-th): {_ds_brain_region.shape}\")\n",
        "\n",
        "    _ds_0th_left_response = _ds_brain_region[:, y >= 0]\n",
        "    print(f\"\\t- Spike shape for sample brain region (0-th) left responses: {_ds_0th_left_response.shape}\")\n",
        "\n",
        "    averaged_over_left_response = _ds_0th_left_response.mean(axis=(0, 1))\n",
        "    print(f\"\\t- Averaged brain region (0-th) left responses: {averaged_over_left_response.shape}\")\n",
        "\n",
        "log_shapes()\n"
      ],
      "metadata": {
        "colab": {
          "base_uri": "https://localhost:8080/"
        },
        "id": "M-ydT0MKi6zg",
        "outputId": "90f65aec-f4c5-4547-85e5-a5901cad1fff"
      },
      "execution_count": 6,
      "outputs": [
        {
          "output_type": "stream",
          "name": "stdout",
          "text": [
            "All spikes shape: (698, 340, 250)\n",
            "\t- Spike shape for sample brain region (0-th): (145, 340, 250)\n",
            "\t- Spike shape for sample brain region (0-th) left responses: (145, 199, 250)\n",
            "\t- Averaged brain region (0-th) left responses: (250,)\n",
            "time: 25.6 ms (started: 2023-07-19 23:31:22 +00:00)\n"
          ]
        }
      ]
    },
    {
      "cell_type": "code",
      "source": [
        "def create_design_data():\n",
        "    spike_partitioned = {}  # brain region to spike mapping\n",
        "    for i in range(NUM_REGIONS):\n",
        "        spks = curr_ds[\"spks\"][brain_subregions == j]\n",
        "        spikes_for_left_response = spks[:, y < 0]\n",
        "        spikes_for_right_response = spks[:, y > 0]\n",
        "        spikes_for_no_response = spks[:, y == 0]\n",
        "\n",
        "        spike_partitioned[regions[i]] = [\n",
        "            spikes_for_left_response,\n",
        "            spikes_for_no_response,\n",
        "            spikes_for_right_response\n",
        "        ]\n",
        "    return spike_partitioned\n",
        "\n",
        "_Xs = create_design_data()"
      ],
      "metadata": {
        "colab": {
          "base_uri": "https://localhost:8080/"
        },
        "id": "ukGSq1aDibUS",
        "outputId": "f5ff0d83-51aa-41ff-d3eb-ade8fe472062"
      },
      "execution_count": 7,
      "outputs": [
        {
          "output_type": "stream",
          "name": "stdout",
          "text": [
            "time: 24.6 ms (started: 2023-07-19 23:31:22 +00:00)\n"
          ]
        }
      ]
    },
    {
      "cell_type": "code",
      "source": [
        "print(f\"Left-Resp Visual Cortex shape: {Xs['vis ctx'][0].shape}\")\n",
        "print(f\"No-Resp Visual Cortex shape: {Xs['vis ctx'][1].shape}\")\n",
        "print(f\"Right-Resp Visual Cortex shape: {Xs['vis ctx'][2].shape}\")"
      ],
      "metadata": {
        "colab": {
          "base_uri": "https://localhost:8080/"
        },
        "id": "m9tFKpakpdax",
        "outputId": "5524f9ea-cd9b-4cd7-cd93-b64780172be7"
      },
      "execution_count": 8,
      "outputs": [
        {
          "output_type": "stream",
          "name": "stdout",
          "text": [
            "Left-Resp Visual Cortex shape: (78, 141, 250)\n",
            "No-Resp Visual Cortex shape: (78, 64, 250)\n",
            "Right-Resp Visual Cortex shape: (78, 135, 250)\n",
            "time: 2.35 ms (started: 2023-07-19 23:31:22 +00:00)\n"
          ]
        }
      ]
    },
    {
      "cell_type": "code",
      "source": [
        "Xs.keys()"
      ],
      "metadata": {
        "colab": {
          "base_uri": "https://localhost:8080/"
        },
        "id": "MQXuEzgmvzZ5",
        "outputId": "727d1629-c2f4-4a9f-896f-099d86987c33"
      },
      "execution_count": 28,
      "outputs": [
        {
          "output_type": "execute_result",
          "data": {
            "text/plain": [
              "dict_keys(['vis ctx', 'thal', 'hipp', 'other ctx'])"
            ]
          },
          "metadata": {},
          "execution_count": 28
        },
        {
          "output_type": "stream",
          "name": "stdout",
          "text": [
            "time: 4.36 ms (started: 2023-07-19 23:53:16 +00:00)\n"
          ]
        }
      ]
    },
    {
      "cell_type": "code",
      "source": [],
      "metadata": {
        "id": "zdWK822Vkn4W"
      },
      "execution_count": null,
      "outputs": []
    }
  ]
}