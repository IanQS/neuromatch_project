{
  "nbformat": 4,
  "nbformat_minor": 0,
  "metadata": {
    "colab": {
      "provenance": [],
      "authorship_tag": "ABX9TyNP8fupiaGcEQ6zA3GzL/i5",
      "include_colab_link": true
    },
    "kernelspec": {
      "name": "python3",
      "display_name": "Python 3"
    },
    "language_info": {
      "name": "python"
    }
  },
  "cells": [
    {
      "cell_type": "markdown",
      "metadata": {
        "id": "view-in-github",
        "colab_type": "text"
      },
      "source": [
        "<a href=\"https://colab.research.google.com/github/IanQS/neuromatch_project/blob/main/ibl_brain_region_spike_exploration.ipynb\" target=\"_parent\"><img src=\"https://colab.research.google.com/assets/colab-badge.svg\" alt=\"Open In Colab\"/></a>"
      ]
    },
    {
      "cell_type": "markdown",
      "source": [
        "# Source\n",
        "\n",
        "[IBL: Loading Spike Sorting Dataset](https://int-brain-lab.github.io/iblenv/notebooks_external/loading_spikesorting_data.html)\n",
        "\n"
      ],
      "metadata": {
        "id": "Ve49kUBGnIvI"
      }
    },
    {
      "cell_type": "code",
      "source": [],
      "metadata": {
        "id": "0xjN7hXvntDZ"
      },
      "execution_count": null,
      "outputs": []
    }
  ]
}