{
  "nbformat": 4,
  "nbformat_minor": 0,
  "metadata": {
    "colab": {
      "provenance": [],
      "include_colab_link": true
    },
    "kernelspec": {
      "name": "python3",
      "display_name": "Python 3"
    },
    "language_info": {
      "name": "python"
    }
  },
  "cells": [
    {
      "cell_type": "markdown",
      "metadata": {
        "id": "view-in-github",
        "colab_type": "text"
      },
      "source": [
        "<a href=\"https://colab.research.google.com/github/IanQS/neuromatch_project/blob/main/NMA_2023_IBL_Project.ipynb\" target=\"_parent\"><img src=\"https://colab.research.google.com/assets/colab-badge.svg\" alt=\"Open In Colab\"/></a>"
      ]
    },
    {
      "cell_type": "markdown",
      "source": [
        "First install the IBL pipeline, which NMA curated to only have the behavioral data, we'll have to import the database"
      ],
      "metadata": {
        "id": "uyl7Nqd-j6lJ"
      }
    },
    {
      "cell_type": "code",
      "source": [
        "# install IBL pipeline package to access and navigate the pipeline\n",
        "!pip install --quiet nma-ibl"
      ],
      "metadata": {
        "colab": {
          "base_uri": "https://localhost:8080/"
        },
        "id": "Dt-rzX7Qj1fT",
        "outputId": "7c32f248-3489-4ab5-cd9a-6e43eaf15853"
      },
      "execution_count": null,
      "outputs": [
        {
          "output_type": "stream",
          "name": "stdout",
          "text": [
            "\u001b[2K     \u001b[90m━━━━━━━━━━━━━━━━━━━━━━━━━━━━━━━━━━━━━━━━\u001b[0m \u001b[32m99.0/99.0 kB\u001b[0m \u001b[31m3.0 MB/s\u001b[0m eta \u001b[36m0:00:00\u001b[0m\n",
            "\u001b[2K     \u001b[90m━━━━━━━━━━━━━━━━━━━━━━━━━━━━━━━━━━━━━━━━\u001b[0m \u001b[32m44.8/44.8 kB\u001b[0m \u001b[31m3.7 MB/s\u001b[0m eta \u001b[36m0:00:00\u001b[0m\n",
            "\u001b[2K     \u001b[90m━━━━━━━━━━━━━━━━━━━━━━━━━━━━━━━━━━━━━━━━\u001b[0m \u001b[32m1.9/1.9 MB\u001b[0m \u001b[31m29.5 MB/s\u001b[0m eta \u001b[36m0:00:00\u001b[0m\n",
            "\u001b[2K     \u001b[90m━━━━━━━━━━━━━━━━━━━━━━━━━━━━━━━━━━━━━━━━\u001b[0m \u001b[32m77.4/77.4 kB\u001b[0m \u001b[31m6.5 MB/s\u001b[0m eta \u001b[36m0:00:00\u001b[0m\n",
            "\u001b[2K     \u001b[90m━━━━━━━━━━━━━━━━━━━━━━━━━━━━━━━━━━━━━━━━\u001b[0m \u001b[32m4.3/4.3 MB\u001b[0m \u001b[31m46.9 MB/s\u001b[0m eta \u001b[36m0:00:00\u001b[0m\n",
            "\u001b[2K     \u001b[90m━━━━━━━━━━━━━━━━━━━━━━━━━━━━━━━━━━━━━━━━\u001b[0m \u001b[32m1.6/1.6 MB\u001b[0m \u001b[31m45.4 MB/s\u001b[0m eta \u001b[36m0:00:00\u001b[0m\n",
            "\u001b[2K     \u001b[90m━━━━━━━━━━━━━━━━━━━━━━━━━━━━━━━━━━━━━━━━\u001b[0m \u001b[32m82.1/82.1 kB\u001b[0m \u001b[31m6.4 MB/s\u001b[0m eta \u001b[36m0:00:00\u001b[0m\n",
            "\u001b[?25h"
          ]
        }
      ]
    },
    {
      "cell_type": "markdown",
      "source": [
        "Configure datajoint to link up with the NMA IBL database"
      ],
      "metadata": {
        "id": "tHZrsKbklvDR"
      }
    },
    {
      "cell_type": "code",
      "source": [
        "import datajoint as dj\n",
        "dj.config['database.host'] = 'datajoint-public.internationalbrainlab.org'\n",
        "dj.config['database.user'] = 'ibl-public'\n",
        "dj.config['database.password'] = 'ibl-public'\n",
        "\n",
        "from nma_ibl import reference, subject, action, acquisition, data, behavior, behavior_analyses"
      ],
      "metadata": {
        "id": "gQH3lPv9lruH",
        "colab": {
          "base_uri": "https://localhost:8080/"
        },
        "outputId": "58d6b6d2-d612-4dd2-b074-0885be431987"
      },
      "execution_count": null,
      "outputs": [
        {
          "output_type": "stream",
          "name": "stderr",
          "text": [
            "[2023-07-14 14:34:36,576][INFO]: Connecting ibl-public@datajoint-public.internationalbrainlab.org:3306\n",
            "INFO:datajoint:Connecting ibl-public@datajoint-public.internationalbrainlab.org:3306\n",
            "[2023-07-14 14:34:36,979][INFO]: Connected ibl-public@datajoint-public.internationalbrainlab.org:3306\n",
            "INFO:datajoint:Connected ibl-public@datajoint-public.internationalbrainlab.org:3306\n"
          ]
        }
      ]
    },
    {
      "cell_type": "code",
      "execution_count": null,
      "metadata": {
        "id": "N7v9tolwrOkX"
      },
      "outputs": [],
      "source": [
        "#imports here\n",
        "import numpy as np\n",
        "import matplotlib.pyplot as plt\n",
        "\n",
        "from sklearn.linear_model import LogisticRegression\n",
        "from sklearn.model_selection import cross_val_score"
      ]
    },
    {
      "cell_type": "markdown",
      "source": [
        "Below we pip install the library we need for working with the IBL ephys data"
      ],
      "metadata": {
        "id": "SCDhiQparBjz"
      }
    },
    {
      "cell_type": "code",
      "source": [
        "!pip install -q ONE-api ibllib\n",
        "\n",
        "# Turn off logging, this is a hidden cell on docs page\n",
        "import logging\n",
        "logger = logging.getLogger('ibllib')\n",
        "logger.setLevel(logging.CRITICAL)"
      ],
      "metadata": {
        "colab": {
          "base_uri": "https://localhost:8080/"
        },
        "id": "JYiN81B8nXeX",
        "outputId": "e1f9714d-fb07-4d53-d60f-64b95f23d2c8"
      },
      "execution_count": null,
      "outputs": [
        {
          "output_type": "stream",
          "name": "stdout",
          "text": [
            "\u001b[2K     \u001b[90m━━━━━━━━━━━━━━━━━━━━━━━━━━━━━━━━━━━━━━━\u001b[0m \u001b[32m104.3/104.3 kB\u001b[0m \u001b[31m3.0 MB/s\u001b[0m eta \u001b[36m0:00:00\u001b[0m\n",
            "\u001b[2K     \u001b[90m━━━━━━━━━━━━━━━━━━━━━━━━━━━━━━━━━━━━━━━━\u001b[0m \u001b[32m8.7/8.7 MB\u001b[0m \u001b[31m63.7 MB/s\u001b[0m eta \u001b[36m0:00:00\u001b[0m\n",
            "\u001b[2K     \u001b[90m━━━━━━━━━━━━━━━━━━━━━━━━━━━━━━━━━━━━━━━━\u001b[0m \u001b[32m57.8/57.8 kB\u001b[0m \u001b[31m4.6 MB/s\u001b[0m eta \u001b[36m0:00:00\u001b[0m\n",
            "\u001b[2K     \u001b[90m━━━━━━━━━━━━━━━━━━━━━━━━━━━━━━━━━━━━━━\u001b[0m \u001b[32m135.7/135.7 kB\u001b[0m \u001b[31m10.8 MB/s\u001b[0m eta \u001b[36m0:00:00\u001b[0m\n",
            "\u001b[2K     \u001b[90m━━━━━━━━━━━━━━━━━━━━━━━━━━━━━━━━━━━━━━\u001b[0m \u001b[32m237.9/237.9 kB\u001b[0m \u001b[31m17.8 MB/s\u001b[0m eta \u001b[36m0:00:00\u001b[0m\n",
            "\u001b[2K     \u001b[90m━━━━━━━━━━━━━━━━━━━━━━━━━━━━━━━━━━━━━━\u001b[0m \u001b[32m176.4/176.4 kB\u001b[0m \u001b[31m13.0 MB/s\u001b[0m eta \u001b[36m0:00:00\u001b[0m\n",
            "\u001b[?25h  Installing build dependencies ... \u001b[?25l\u001b[?25hdone\n",
            "  Getting requirements to build wheel ... \u001b[?25l\u001b[?25hdone\n",
            "  Installing backend dependencies ... \u001b[?25l\u001b[?25hdone\n",
            "  Preparing metadata (pyproject.toml) ... \u001b[?25l\u001b[?25hdone\n",
            "\u001b[2K     \u001b[90m━━━━━━━━━━━━━━━━━━━━━━━━━━━━━━━━━━━━━━━━\u001b[0m \u001b[32m80.2/80.2 kB\u001b[0m \u001b[31m7.9 MB/s\u001b[0m eta \u001b[36m0:00:00\u001b[0m\n",
            "\u001b[2K     \u001b[90m━━━━━━━━━━━━━━━━━━━━━━━━━━━━━━━━━━━━━━━━\u001b[0m \u001b[32m54.7/54.7 kB\u001b[0m \u001b[31m5.2 MB/s\u001b[0m eta \u001b[36m0:00:00\u001b[0m\n",
            "\u001b[2K     \u001b[90m━━━━━━━━━━━━━━━━━━━━━━━━━━━━━━━━━━━━━━━━\u001b[0m \u001b[32m95.9/95.9 kB\u001b[0m \u001b[31m8.6 MB/s\u001b[0m eta \u001b[36m0:00:00\u001b[0m\n",
            "\u001b[2K     \u001b[90m━━━━━━━━━━━━━━━━━━━━━━━━━━━━━━━━━━━━━━━━\u001b[0m \u001b[32m94.9/94.9 kB\u001b[0m \u001b[31m8.0 MB/s\u001b[0m eta \u001b[36m0:00:00\u001b[0m\n",
            "\u001b[2K     \u001b[90m━━━━━━━━━━━━━━━━━━━━━━━━━━━━━━━━━━━━━━━━\u001b[0m \u001b[32m41.3/41.3 kB\u001b[0m \u001b[31m3.5 MB/s\u001b[0m eta \u001b[36m0:00:00\u001b[0m\n",
            "\u001b[2K     \u001b[90m━━━━━━━━━━━━━━━━━━━━━━━━━━━━━━━━━━━━━━━━\u001b[0m \u001b[32m62.8/62.8 kB\u001b[0m \u001b[31m4.9 MB/s\u001b[0m eta \u001b[36m0:00:00\u001b[0m\n",
            "\u001b[2K     \u001b[90m━━━━━━━━━━━━━━━━━━━━━━━━━━━━━━━━━━━━━━━━\u001b[0m \u001b[32m11.0/11.0 MB\u001b[0m \u001b[31m79.2 MB/s\u001b[0m eta \u001b[36m0:00:00\u001b[0m\n",
            "\u001b[2K     \u001b[90m━━━━━━━━━━━━━━━━━━━━━━━━━━━━━━━━━━━━━━━━\u001b[0m \u001b[32m79.8/79.8 kB\u001b[0m \u001b[31m7.5 MB/s\u001b[0m eta \u001b[36m0:00:00\u001b[0m\n",
            "\u001b[?25h  Building wheel for nptdms (pyproject.toml) ... \u001b[?25l\u001b[?25hdone\n"
          ]
        }
      ]
    },
    {
      "cell_type": "markdown",
      "source": [
        "We should load the data from NMA (IBL Behavior) and the data from IBL themselves (the cleaned up spikes) below in a way that makes sense"
      ],
      "metadata": {
        "id": "DRllGvDi8me3"
      }
    },
    {
      "cell_type": "code",
      "source": [
        "#here we run imports for the IBL ephys data\n",
        "from one.api import ONE\n",
        "from brainbox.io.one import SpikeSortingLoader\n",
        "from ibllib.atlas import AllenAtlas"
      ],
      "metadata": {
        "id": "TiDzKyKQrTlt"
      },
      "execution_count": null,
      "outputs": []
    },
    {
      "cell_type": "markdown",
      "source": [
        "Now we set up the interface with the ephys database, first we authenticate with the public password, then make a list of **probe IDs** with ```pids```, load a particular **pid** with ```SpikeSortingLoader()```"
      ],
      "metadata": {
        "id": "X12CXlUjrpzx"
      }
    },
    {
      "cell_type": "code",
      "source": [
        "ONE.setup(base_url='https://openalyx.internationalbrainlab.org', silent=True)\n",
        "one = ONE(password='international')\n",
        "# one = ONE()\n",
        "ba = AllenAtlas()\n",
        "pids = [\n",
        "   '1a276285-8b0e-4cc9-9f0a-a3a002978724',\n",
        "   '1e104bf4-7a24-4624-a5b2-c2c8289c0de7',\n",
        "   '5d570bf6-a4c6-4bf1-a14b-2c878c84ef0e',\n",
        "   '5f7766ce-8e2e-410c-9195-6bf089fea4fd',\n",
        "   '6638cfb3-3831-4fc2-9327-194b76cf22e1',\n",
        "   '749cb2b7-e57e-4453-a794-f6230e4d0226',\n",
        "   'd7ec0892-0a6c-4f4f-9d8f-72083692af5c',\n",
        "   'da8dfec1-d265-44e8-84ce-6ae9c109b8bd',\n",
        "   'dab512bd-a02d-4c1f-8dbc-9155a163efc0',\n",
        "   'dc7e9403-19f7-409f-9240-05ee57cb7aea',\n",
        "   'e8f9fba4-d151-4b00-bee7-447f0f3e752c',\n",
        "   'eebcaf65-7fa4-4118-869d-a084e84530e2',\n",
        "   'fe380793-8035-414e-b000-09bfe5ece92a',\n",
        "]\n",
        "pid = pids[0]\n",
        "eid, name = one.pid2eid(pid)\n",
        "\n",
        "sl = SpikeSortingLoader(pid=pid, one=one, atlas=ba)\n",
        "spikes, clusters, channels = sl.load_spike_sorting()\n",
        "clusters = sl.merge_clusters(spikes, clusters, channels)"
      ],
      "metadata": {
        "id": "-A3becQorpK2",
        "colab": {
          "base_uri": "https://localhost:8080/"
        },
        "outputId": "0e5f217c-6460-4901-f8c4-1d316d4f3953"
      },
      "execution_count": null,
      "outputs": [
        {
          "output_type": "stream",
          "name": "stdout",
          "text": [
            "Connected to https://openalyx.internationalbrainlab.org as user \"intbrainlab\"\n",
            "Downloading: /root/Downloads/ONE/openalyx.internationalbrainlab.org/tmpu2ormlbt/cache.zip Bytes: 11816964\n"
          ]
        },
        {
          "output_type": "stream",
          "name": "stderr",
          "text": [
            "100%|██████████| 11.269535064697266/11.269535064697266 [00:00<00:00, 52.05it/s]\n"
          ]
        },
        {
          "output_type": "stream",
          "name": "stdout",
          "text": [
            "Downloading: /root/Downloads/ONE/openalyx.internationalbrainlab.org/histology/ATLAS/Needles/Allen/average_template_25.nrrd Bytes: 32998960\n"
          ]
        },
        {
          "output_type": "stream",
          "name": "stderr",
          "text": [
            "100%|██████████| 31.470260620117188/31.470260620117188 [00:06<00:00,  4.63it/s]\n"
          ]
        },
        {
          "output_type": "stream",
          "name": "stdout",
          "text": [
            "Downloading: /root/Downloads/ONE/openalyx.internationalbrainlab.org/histology/ATLAS/Needles/Allen/annotation_25.nrrd Bytes: 4035363\n"
          ]
        },
        {
          "output_type": "stream",
          "name": "stderr",
          "text": [
            "100%|██████████| 3.848422050476074/3.848422050476074 [00:04<00:00,  1.05s/it]\n",
            "/root/Downloads/ONE/openalyx.internationalbrainlab.org/cortexlab/Subjects/KS046/2020-12-03/001/alf/probe00/pykilosort/spikes.times.npy: 100%|██████████| 94.3M/94.3M [00:01<00:00, 49.6MB/s]\n",
            "/root/Downloads/ONE/openalyx.internationalbrainlab.org/cortexlab/Subjects/KS046/2020-12-03/001/alf/probe00/pykilosort/spikes.amps.npy: 100%|██████████| 94.3M/94.3M [00:00<00:00, 110MB/s]\n",
            "/root/Downloads/ONE/openalyx.internationalbrainlab.org/cortexlab/Subjects/KS046/2020-12-03/001/alf/probe00/pykilosort/spikes.depths.npy: 100%|██████████| 94.3M/94.3M [00:00<00:00, 128MB/s]\n",
            "/root/Downloads/ONE/openalyx.internationalbrainlab.org/cortexlab/Subjects/KS046/2020-12-03/001/alf/probe00/pykilosort/spikes.clusters.npy: 100%|██████████| 47.2M/47.2M [00:00<00:00, 103MB/s]\n",
            "/root/Downloads/ONE/openalyx.internationalbrainlab.org/cortexlab/Subjects/KS046/2020-12-03/001/alf/probe00/pykilosort/clusters.depths.npy: 100%|██████████| 3.76k/3.76k [00:00<00:00, 49.1kB/s]\n",
            "/root/Downloads/ONE/openalyx.internationalbrainlab.org/cortexlab/Subjects/KS046/2020-12-03/001/alf/probe00/pykilosort/clusters.metrics.pqt: 100%|██████████| 109k/109k [00:00<00:00, 453kB/s]\n",
            "/root/Downloads/ONE/openalyx.internationalbrainlab.org/cortexlab/Subjects/KS046/2020-12-03/001/alf/probe00/pykilosort/clusters.channels.npy: 100%|██████████| 7.39k/7.39k [00:00<00:00, 77.5kB/s]\n",
            "/root/Downloads/ONE/openalyx.internationalbrainlab.org/cortexlab/Subjects/KS046/2020-12-03/001/alf/probe00/pykilosort/clusters.uuids.csv: 100%|██████████| 33.6k/33.6k [00:00<00:00, 254kB/s]\n",
            "/root/Downloads/ONE/openalyx.internationalbrainlab.org/cortexlab/Subjects/KS046/2020-12-03/001/alf/probe00/pykilosort/channels.brainLocationIds_ccf_2017.npy: 100%|██████████| 3.20k/3.20k [00:00<00:00, 33.9kB/s]\n",
            "/root/Downloads/ONE/openalyx.internationalbrainlab.org/cortexlab/Subjects/KS046/2020-12-03/001/alf/probe00/pykilosort/channels.localCoordinates.npy: 100%|██████████| 3.20k/3.20k [00:00<00:00, 36.2kB/s]\n",
            "/root/Downloads/ONE/openalyx.internationalbrainlab.org/cortexlab/Subjects/KS046/2020-12-03/001/alf/probe00/pykilosort/channels.mlapdv.npy: 100%|██████████| 4.74k/4.74k [00:00<00:00, 47.4kB/s]\n",
            "/root/Downloads/ONE/openalyx.internationalbrainlab.org/cortexlab/Subjects/KS046/2020-12-03/001/alf/probe00/pykilosort/channels.rawInd.npy: 100%|██████████| 3.20k/3.20k [00:00<00:00, 40.0kB/s]\n",
            "/root/Downloads/ONE/openalyx.internationalbrainlab.org/cortexlab/Subjects/KS046/2020-12-03/001/alf/probe00/electrodeSites.brainLocationIds_ccf_2017.npy: 100%|██████████| 3.20k/3.20k [00:00<00:00, 35.8kB/s]\n",
            "/root/Downloads/ONE/openalyx.internationalbrainlab.org/cortexlab/Subjects/KS046/2020-12-03/001/alf/probe00/electrodeSites.mlapdv.npy: 100%|██████████| 4.74k/4.74k [00:00<00:00, 53.4kB/s]\n",
            "/root/Downloads/ONE/openalyx.internationalbrainlab.org/cortexlab/Subjects/KS046/2020-12-03/001/alf/probe00/electrodeSites.localCoordinates.npy: 100%|██████████| 3.20k/3.20k [00:00<00:00, 38.5kB/s]\n"
          ]
        }
      ]
    },
    {
      "cell_type": "markdown",
      "source": [
        "After loading in the data sets we should extract relevant details to structure that's gonna work easier with numpy and scikitlearn.\n",
        "\n",
        "w1d3 notebook loads the Steinmetz data as a dictionary, ```spikes```: an array of normalized spike rates with shape (n_trials, n_neurons), and ```choices```: a vector of 0s and 1s, indicating the animal's behavioural response, with length n_trials.\n",
        "\n"
      ],
      "metadata": {
        "id": "yK3FoSWD83ZE"
      }
    },
    {
      "cell_type": "code",
      "source": [
        "#squish data into something easy to work with, a dictionary of arrays works"
      ],
      "metadata": {
        "id": "-_mqCNaurX3Y"
      },
      "execution_count": null,
      "outputs": []
    },
    {
      "cell_type": "markdown",
      "source": [
        "Then just train a model and instead of just taking vanilla accuracy we can use cross-validation"
      ],
      "metadata": {
        "id": "PrtRPME99g7E"
      }
    },
    {
      "cell_type": "code",
      "source": [
        "##   accuracies = cross_val_score(LogisticRegression(penalty=None), spikes, choices, cv=8)  # k=8 cross validation"
      ],
      "metadata": {
        "id": "tfMZedHM8jfe"
      },
      "execution_count": null,
      "outputs": []
    },
    {
      "cell_type": "markdown",
      "source": [
        "I can imagine we're gonna have WAY more features than samples if we take each neuron to be a feature"
      ],
      "metadata": {
        "id": "Y7px-7Kv-eWF"
      }
    },
    {
      "cell_type": "code",
      "source": [],
      "metadata": {
        "id": "5pP-DV3N-tBu"
      },
      "execution_count": null,
      "outputs": []
    }
  ]
}