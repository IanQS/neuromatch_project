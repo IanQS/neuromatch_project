{
  "nbformat": 4,
  "nbformat_minor": 0,
  "metadata": {
    "colab": {
      "provenance": [],
      "authorship_tag": "ABX9TyObeAVFxEAsIDnEVHylDfLT",
      "include_colab_link": true
    },
    "kernelspec": {
      "name": "python3",
      "display_name": "Python 3"
    },
    "language_info": {
      "name": "python"
    }
  },
  "cells": [
    {
      "cell_type": "markdown",
      "metadata": {
        "id": "view-in-github",
        "colab_type": "text"
      },
      "source": [
        "<a href=\"https://colab.research.google.com/github/IanQS/neuromatch_project/blob/main/steinmetz_modeling.ipynb\" target=\"_parent\"><img src=\"https://colab.research.google.com/assets/colab-badge.svg\" alt=\"Open In Colab\"/></a>"
      ]
    },
    {
      "cell_type": "markdown",
      "source": [
        "# Modeling of the Steinmetz dataset\n",
        "\n",
        "- uses [Neuromatch Load Steinmetz Decisions](https://colab.research.google.com/github/NeuromatchAcademy/course-content/blob/main/projects/neurons/load_steinmetz_decisions.ipynb#scrollTo=DJ-jzsE5eLxX) as a base"
      ],
      "metadata": {
        "id": "IDojqX3X1w30"
      }
    },
    {
      "cell_type": "code",
      "execution_count": 11,
      "metadata": {
        "id": "K0fUDdS41qWU",
        "colab": {
          "base_uri": "https://localhost:8080/"
        },
        "outputId": "304210ef-d2da-4844-88e5-00fd20cd52e5"
      },
      "outputs": [
        {
          "output_type": "stream",
          "name": "stdout",
          "text": [
            "The autotime extension is already loaded. To reload it, use:\n",
            "  %reload_ext autotime\n",
            "time: 4.32 s (started: 2023-07-19 15:21:07 +00:00)\n"
          ]
        }
      ],
      "source": [
        "import numpy as np\n",
        "import matplotlib.pyplot as plt\n",
        "from scipy.stats import zscore\n",
        "from sklearn.decomposition import PCA\n",
        "import concurrent.futures\n",
        "from multiprocessing import Pool\n",
        "\n",
        "!pip install -q ipython-autotime\n",
        "%load_ext autotime"
      ]
    },
    {
      "cell_type": "markdown",
      "source": [
        "# Data Pipeline\n",
        "\n",
        "1) Loads and processes the data\n",
        "\n",
        "2) Filters out brain areas"
      ],
      "metadata": {
        "id": "MK7L6ayEVd0L"
      }
    },
    {
      "cell_type": "code",
      "source": [
        "import os, requests\n",
        "\n",
        "fname = []\n",
        "for j in range(3):\n",
        "  fname.append('steinmetz_part%d.npz'%j)\n",
        "url = [\"https://osf.io/agvxh/download\"]\n",
        "url.append(\"https://osf.io/uv3mw/download\")\n",
        "url.append(\"https://osf.io/ehmw2/download\")\n",
        "\n",
        "for j in range(len(url)):\n",
        "  if not os.path.isfile(fname[j]):\n",
        "    try:\n",
        "      r = requests.get(url[j])\n",
        "    except requests.ConnectionError:\n",
        "      print(\"!!! Failed to download data !!!\")\n",
        "    else:\n",
        "      if r.status_code != requests.codes.ok:\n",
        "        print(\"!!! Failed to download data !!!\")\n",
        "      else:\n",
        "        with open(fname[j], \"wb\") as fid:\n",
        "          fid.write(r.content)\n",
        "\n"
      ],
      "metadata": {
        "colab": {
          "base_uri": "https://localhost:8080/"
        },
        "id": "SNH_c8UKVK84",
        "outputId": "eb787a4e-cde5-42a5-bb41-60b1e8538f38"
      },
      "execution_count": 2,
      "outputs": [
        {
          "output_type": "stream",
          "name": "stdout",
          "text": [
            "time: 373 ms (started: 2023-07-19 14:54:10 +00:00)\n"
          ]
        }
      ]
    },
    {
      "cell_type": "code",
      "source": [
        "all_datasets = np.array([])\n",
        "for j in range(len(fname)):\n",
        "  all_datasets = np.hstack((all_datasets,\n",
        "                      np.load('steinmetz_part%d.npz'%j,\n",
        "                              allow_pickle=True)['dat']))"
      ],
      "metadata": {
        "colab": {
          "base_uri": "https://localhost:8080/"
        },
        "id": "wDogHOfWVaRC",
        "outputId": "2d11d097-2201-4285-da92-71d15fd0b29a"
      },
      "execution_count": 3,
      "outputs": [
        {
          "output_type": "stream",
          "name": "stdout",
          "text": [
            "time: 46.1 s (started: 2023-07-19 14:54:11 +00:00)\n"
          ]
        }
      ]
    },
    {
      "cell_type": "code",
      "source": [
        "regions = [\"vis ctx\", \"thal\", \"hipp\", \"other ctx\", \"midbrain\", \"basal ganglia\", \"cortical subplate\", \"other\"]\n",
        "region_colors = ['blue', 'red', 'green', 'darkblue', 'violet', 'lightblue', 'orange', 'gray']\n",
        "brain_groups = [[\"VISa\", \"VISam\", \"VISl\", \"VISp\", \"VISpm\", \"VISrl\"],  # visual cortex\n",
        "                [\"CL\", \"LD\", \"LGd\", \"LH\", \"LP\", \"MD\", \"MG\", \"PO\", \"POL\", \"PT\", \"RT\", \"SPF\", \"TH\", \"VAL\", \"VPL\", \"VPM\"], # thalamus\n",
        "                [\"CA\", \"CA1\", \"CA2\", \"CA3\", \"DG\", \"SUB\", \"POST\"],  # hippocampal\n",
        "                [\"ACA\", \"AUD\", \"COA\", \"DP\", \"ILA\", \"MOp\", \"MOs\", \"OLF\", \"ORB\", \"ORBm\", \"PIR\", \"PL\", \"SSp\", \"SSs\", \"RSP\",\"TT\"],  # non-visual cortex\n",
        "                [\"APN\", \"IC\", \"MB\", \"MRN\", \"NB\", \"PAG\", \"RN\", \"SCs\", \"SCm\", \"SCig\", \"SCsg\", \"ZI\"],  # midbrain\n",
        "                [\"ACB\", \"CP\", \"GPe\", \"LS\", \"LSc\", \"LSr\", \"MS\", \"OT\", \"SNr\", \"SI\"],  # basal ganglia\n",
        "                [\"BLA\", \"BMA\", \"EP\", \"EPd\", \"MEA\"]  # cortical subplate\n",
        "                ]\n",
        "\n",
        "# Assign each area an index\n",
        "area_to_index = dict(root=0)\n",
        "counter = 1\n",
        "for group in brain_groups:\n",
        "    for area in group:\n",
        "        area_to_index[area] = counter\n",
        "        counter += 1\n",
        "\n",
        "# Figure out which areas are in each dataset\n",
        "areas_by_dataset = np.zeros((counter, len(all_datasets)), dtype=bool)\n",
        "for j, d in enumerate(all_datasets):\n",
        "    for area in np.unique(d['brain_area']):\n",
        "        i = area_to_index[area]\n",
        "        areas_by_dataset[i, j] = True\n"
      ],
      "metadata": {
        "colab": {
          "base_uri": "https://localhost:8080/"
        },
        "id": "R-TrPD1RaSdE",
        "outputId": "f1f30243-28dd-4fa3-f36b-d16cc7895f90"
      },
      "execution_count": 4,
      "outputs": [
        {
          "output_type": "stream",
          "name": "stdout",
          "text": [
            "time: 5.2 ms (started: 2023-07-19 14:54:57 +00:00)\n"
          ]
        }
      ]
    },
    {
      "cell_type": "code",
      "source": [
        "DATASET_IDX = 11\n",
        "specific_dataset = all_datasets[DATASET_IDX]\n",
        "\n",
        "dt = specific_dataset[\"bin_size\"]\n",
        "NUM_SUBJECTS = specific_dataset[\"spks\"].shape[0]\n",
        "\n",
        "NUM_BINNED_TIMES = specific_dataset[\"spks\"].shape[2]\n",
        "\n",
        "if DATASET_IDX != 11:\n",
        "    raise Exception(\"Code is only meant for DATASET_IDX=11\")\n",
        "else:\n",
        "    NUM_REGIONS = 4\n",
        "    NUM_SUBREGIONS = len(specific_dataset[\"brain_area\"])\n",
        "\n",
        "brain_subregions = NUM_REGIONS * np.ones(NUM_SUBREGIONS, )  # last one is \"other\"\n",
        "for j in range(NUM_REGIONS):\n",
        "  brain_subregions[\n",
        "      np.isin(specific_dataset['brain_area'], brain_groups[j])\n",
        "      ] = j  # assign a number to each region\n"
      ],
      "metadata": {
        "colab": {
          "base_uri": "https://localhost:8080/"
        },
        "id": "UKkzVgrtaUIK",
        "outputId": "ed4550a5-b3f6-474a-e7ae-39785e1aead1"
      },
      "execution_count": 5,
      "outputs": [
        {
          "output_type": "stream",
          "name": "stdout",
          "text": [
            "time: 2.85 ms (started: 2023-07-19 14:54:57 +00:00)\n"
          ]
        }
      ]
    },
    {
      "cell_type": "markdown",
      "source": [
        "# Creating the dataset"
      ],
      "metadata": {
        "id": "YWUD2SeXvb79"
      }
    },
    {
      "cell_type": "code",
      "source": [
        "LABELS = specific_dataset[\"response\"]  # RIGHT - NO_GO - LEFT (-1, 0, 1)\n",
        "y = LABELS"
      ],
      "metadata": {
        "colab": {
          "base_uri": "https://localhost:8080/"
        },
        "id": "KdR8dZCikHnf",
        "outputId": "db687d3d-4f76-4809-bcbb-ae121b236ad5"
      },
      "execution_count": 16,
      "outputs": [
        {
          "output_type": "stream",
          "name": "stdout",
          "text": [
            "time: 660 µs (started: 2023-07-19 15:23:01 +00:00)\n"
          ]
        }
      ]
    },
    {
      "cell_type": "code",
      "source": [
        "def log_shapes():\n",
        "    _ds = specific_dataset['spks']\n",
        "    print(f\"All spikes shape: {_ds.shape}\")\n",
        "    _ds_brain_region = _ds[brain_subregions == 0]\n",
        "    print(f\"\\t- Spike shape for sample brain region (0-th): {_ds_brain_region.shape}\")\n",
        "\n",
        "    _ds_0th_left_response = _ds_brain_region[:, y >= 0]\n",
        "    print(f\"\\t- Spike shape for sample brain region (0-th) left responses: {_ds_0th_left_response.shape}\")\n",
        "\n",
        "    averaged_over_left_response = _ds_0th_left_response.mean(axis=(0, 1))\n",
        "    print(f\"\\t- Averaged brain region (0-th) left responses: {averaged_over_left_response.shape}\")\n",
        "\n",
        "log_shapes()\n"
      ],
      "metadata": {
        "colab": {
          "base_uri": "https://localhost:8080/"
        },
        "id": "M-ydT0MKi6zg",
        "outputId": "706136f3-92d5-4909-c82d-46fe9bd32a6b"
      },
      "execution_count": 17,
      "outputs": [
        {
          "output_type": "stream",
          "name": "stdout",
          "text": [
            "All spikes shape: (698, 340, 250)\n",
            "\t- Spike shape for sample brain region (0-th): (145, 340, 250)\n",
            "\t- Spike shape for sample brain region (0-th) left responses: (145, 199, 250)\n",
            "\t- Averaged brain region (0-th) left responses: (250,)\n",
            "time: 17.2 ms (started: 2023-07-19 15:23:02 +00:00)\n"
          ]
        }
      ]
    },
    {
      "cell_type": "code",
      "source": [
        "def create_design_matrix():\n",
        "    spike_partitioned = {}  # brain region to spike mapping\n",
        "    for i in range(NUM_REGIONS):\n",
        "        spks = specific_dataset[\"spks\"][brain_subregions == j]\n",
        "        spikes_for_left_response = spks[:, y < 0]\n",
        "        spikes_for_right_response = spks[:, y > 0]\n",
        "        spikes_for_no_response = spks[:, y == 0]\n",
        "\n",
        "        spike_partitioned[regions[i]] = [\n",
        "            spikes_for_left_response,\n",
        "            spikes_for_no_response,\n",
        "            spikes_for_right_response\n",
        "        ]\n",
        "    return spike_partitioned\n",
        "\n",
        "Xs = create_design_matrix()"
      ],
      "metadata": {
        "colab": {
          "base_uri": "https://localhost:8080/"
        },
        "id": "ukGSq1aDibUS",
        "outputId": "8f4e2ae8-d101-436a-e77e-579ddbb7d9da"
      },
      "execution_count": 18,
      "outputs": [
        {
          "output_type": "stream",
          "name": "stdout",
          "text": [
            "time: 18.1 ms (started: 2023-07-19 15:23:02 +00:00)\n"
          ]
        }
      ]
    },
    {
      "cell_type": "code",
      "source": [
        "print(f\"Left-Resp Visual Cortex shape: {Xs['vis ctx'][0].shape}\")\n",
        "print(f\"No-Resp Visual Cortex shape: {Xs['vis ctx'][1].shape}\")\n",
        "print(f\"Right-Resp Visual Cortex shape: {Xs['vis ctx'][2].shape}\")"
      ],
      "metadata": {
        "colab": {
          "base_uri": "https://localhost:8080/"
        },
        "id": "m9tFKpakpdax",
        "outputId": "e90960f4-41c6-4b8f-c049-6874040b36cd"
      },
      "execution_count": 23,
      "outputs": [
        {
          "output_type": "stream",
          "name": "stdout",
          "text": [
            "Left-Resp Visual Cortex shape: (78, 141, 250)\n",
            "No-Resp Visual Cortex shape: (78, 64, 250)\n",
            "Right-Resp Visual Cortex shape: (78, 135, 250)\n",
            "time: 1.06 ms (started: 2023-07-19 15:24:47 +00:00)\n"
          ]
        }
      ]
    },
    {
      "cell_type": "code",
      "source": [],
      "metadata": {
        "id": "MQXuEzgmvzZ5"
      },
      "execution_count": null,
      "outputs": []
    }
  ]
}