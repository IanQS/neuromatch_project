{
  "nbformat": 4,
  "nbformat_minor": 0,
  "metadata": {
    "colab": {
      "provenance": [],
      "authorship_tag": "ABX9TyPX72IZAYhSs0j4VT3XsDDs",
      "include_colab_link": true
    },
    "kernelspec": {
      "name": "python3",
      "display_name": "Python 3"
    },
    "language_info": {
      "name": "python"
    }
  },
  "cells": [
    {
      "cell_type": "markdown",
      "metadata": {
        "id": "view-in-github",
        "colab_type": "text"
      },
      "source": [
        "<a href=\"https://colab.research.google.com/github/IanQS/neuromatch_project/blob/main/steinmetz_modeling.ipynb\" target=\"_parent\"><img src=\"https://colab.research.google.com/assets/colab-badge.svg\" alt=\"Open In Colab\"/></a>"
      ]
    },
    {
      "cell_type": "markdown",
      "source": [
        "# Modeling of the Steinmetz dataset\n",
        "\n",
        "- uses [Neuromatch Load Steinmetz Decisions](https://colab.research.google.com/github/NeuromatchAcademy/course-content/blob/main/projects/neurons/load_steinmetz_decisions.ipynb#scrollTo=DJ-jzsE5eLxX) as a base"
      ],
      "metadata": {
        "id": "IDojqX3X1w30"
      }
    },
    {
      "cell_type": "code",
      "execution_count": 1,
      "metadata": {
        "id": "K0fUDdS41qWU",
        "colab": {
          "base_uri": "https://localhost:8080/"
        },
        "outputId": "d8a33200-5f07-462e-8840-1497c6fa3011"
      },
      "outputs": [
        {
          "output_type": "stream",
          "name": "stdout",
          "text": [
            "time: 320 µs (started: 2023-07-20 00:20:28 +00:00)\n"
          ]
        }
      ],
      "source": [
        "import numpy as np\n",
        "import matplotlib.pyplot as plt\n",
        "from scipy.stats import zscore\n",
        "from sklearn.decomposition import PCA\n",
        "import concurrent.futures\n",
        "from multiprocessing import Pool\n",
        "\n",
        "!pip install -q ipython-autotime\n",
        "%load_ext autotime"
      ]
    },
    {
      "cell_type": "code",
      "source": [
        "# @title Data Downloading And Stacking\n",
        "import os, requests\n",
        "\n",
        "fname = []\n",
        "for j in range(3):\n",
        "  fname.append('steinmetz_part%d.npz'%j)\n",
        "url = [\"https://osf.io/agvxh/download\"]\n",
        "url.append(\"https://osf.io/uv3mw/download\")\n",
        "url.append(\"https://osf.io/ehmw2/download\")\n",
        "\n",
        "for j in range(len(url)):\n",
        "  if not os.path.isfile(fname[j]):\n",
        "    try:\n",
        "      r = requests.get(url[j])\n",
        "    except requests.ConnectionError:\n",
        "      print(\"!!! Failed to download data !!!\")\n",
        "    else:\n",
        "      if r.status_code != requests.codes.ok:\n",
        "        print(\"!!! Failed to download data !!!\")\n",
        "      else:\n",
        "        with open(fname[j], \"wb\") as fid:\n",
        "          fid.write(r.content)\n",
        "\n",
        "all_ds = np.array([])\n",
        "for j in range(len(fname)):\n",
        "  all_ds = np.hstack((all_ds,\n",
        "                      np.load('steinmetz_part%d.npz'%j,\n",
        "                              allow_pickle=True)['dat']))"
      ],
      "metadata": {
        "colab": {
          "base_uri": "https://localhost:8080/"
        },
        "cellView": "form",
        "id": "SNH_c8UKVK84",
        "outputId": "9d23217f-9b5b-44b5-f368-27776baae620"
      },
      "execution_count": 2,
      "outputs": [
        {
          "output_type": "stream",
          "name": "stdout",
          "text": [
            "time: 49.9 s (started: 2023-07-20 00:20:28 +00:00)\n"
          ]
        }
      ]
    },
    {
      "cell_type": "markdown",
      "source": [
        "# Dataset Description\n",
        "\n",
        "(taken and modified from the Neuromatch Load Steinmetz Decisions notebook)\n",
        "\n",
        "## High-level\n",
        "\n",
        "`all_ds` contains 39 sessions from 10 mice, data from Steinmetz et al, 2019. Time bins for all measurements are 10ms, starting 500ms before stimulus onset. The mouse had to determine which side has the highest contrast. For each `curr_ds = all_ds[k]`, you have the fields below. For extra variables, check out the extra notebook and extra data files (lfp, waveforms and exact spike times, non-binned).\n",
        "\n",
        "## Fields present (not all are used)\n",
        "\n",
        "* `curr_ds['mouse_name']`: mouse name\n",
        "* `curr_ds['date_exp']`: when a session was performed\n",
        "* `curr_ds['spks']`: neurons by trials by time bins.    \n",
        "* `curr_ds['brain_area']`: brain area for each neuron recorded.\n",
        "* `curr_ds['ccf']`: Allen Institute brain atlas coordinates for each neuron.\n",
        "* `curr_ds['ccf_axes']`: axes names for the Allen CCF.\n",
        "* `curr_ds['contrast_right']`: contrast level for the right stimulus, which is always contralateral to the recorded brain areas.\n",
        "* `curr_ds['contrast_left']`: contrast level for left stimulus.\n",
        "* `curr_ds['gocue']`: when the go cue sound was played.\n",
        "* `curr_ds['response_time']`: when the response was registered, which has to be after the go cue. The mouse can turn the wheel before the go cue (and nearly always does!), but the stimulus on the screen won't move before the go cue.  \n",
        "* `curr_ds['response']`: which side the response was (`-1`, `0`, `1`). When the right-side stimulus had higher contrast, the correct choice was `-1`. `0` is a no go response.\n",
        "* `curr_ds['feedback_time']`: when feedback was provided.\n",
        "* `curr_ds['feedback_type']`: if the feedback was positive (`+1`, reward) or negative (`-1`, white noise burst).  \n",
        "* `curr_ds['wheel']`: turning speed of the wheel that the mice uses to make a response, sampled at `10ms`.\n",
        "* `curr_ds['pupil']`: pupil area  (noisy, because pupil is very small) + pupil horizontal and vertical position.\n",
        "* `curr_ds['face']`: average face motion energy from a video camera.\n",
        "* `curr_ds['licks']`: lick detections, 0 or 1.   \n",
        "* `curr_ds['trough_to_peak']`: measures the width of the action potential waveform for each neuron. Widths `<=10` samples are \"putative fast spiking neurons\".\n",
        "* `curr_ds['%X%_passive']`: same as above for `X` = {`spks`, `pupil`, `wheel`, `contrast_left`, `contrast_right`} but for  passive trials at the end of the recording when the mouse was no longer engaged and stopped making responses.\n",
        "* `curr_ds['prev_reward']`: time of the feedback (reward/white noise) on the previous trial in relation to the current stimulus time.\n",
        "* `curr_ds['reaction_time']`: ntrials by 2. First column: reaction time computed from the wheel movement as the first sample above `5` ticks/10ms bin. Second column: direction of the wheel movement (`0` = no move detected).  \n",
        "\n",
        "\n",
        "The original dataset is here: https://figshare.com/articles/dataset/Dataset_from_Steinmetz_et_al_2019/9598406"
      ],
      "metadata": {
        "id": "6R9YTk2nlj57"
      }
    },
    {
      "cell_type": "code",
      "source": [
        "regions = [\"vis ctx\", \"thal\", \"hipp\", \"other ctx\", \"midbrain\", \"basal ganglia\", \"cortical subplate\", \"other\"]\n",
        "region_colors = ['blue', 'red', 'green', 'darkblue', 'violet', 'lightblue', 'orange', 'gray']\n",
        "brain_groups = [[\"VISa\", \"VISam\", \"VISl\", \"VISp\", \"VISpm\", \"VISrl\"],  # visual cortex\n",
        "                [\"CL\", \"LD\", \"LGd\", \"LH\", \"LP\", \"MD\", \"MG\", \"PO\", \"POL\", \"PT\", \"RT\", \"SPF\", \"TH\", \"VAL\", \"VPL\", \"VPM\"], # thalamus\n",
        "                [\"CA\", \"CA1\", \"CA2\", \"CA3\", \"DG\", \"SUB\", \"POST\"],  # hippocampal\n",
        "                [\"ACA\", \"AUD\", \"COA\", \"DP\", \"ILA\", \"MOp\", \"MOs\", \"OLF\", \"ORB\", \"ORBm\", \"PIR\", \"PL\", \"SSp\", \"SSs\", \"RSP\",\"TT\"],  # non-visual cortex\n",
        "                [\"APN\", \"IC\", \"MB\", \"MRN\", \"NB\", \"PAG\", \"RN\", \"SCs\", \"SCm\", \"SCig\", \"SCsg\", \"ZI\"],  # midbrain\n",
        "                [\"ACB\", \"CP\", \"GPe\", \"LS\", \"LSc\", \"LSr\", \"MS\", \"OT\", \"SNr\", \"SI\"],  # basal ganglia\n",
        "                [\"BLA\", \"BMA\", \"EP\", \"EPd\", \"MEA\"]  # cortical subplate\n",
        "                ]\n",
        "\n",
        "# Assign each area an index\n",
        "area_to_index = dict(root=0)\n",
        "counter = 1\n",
        "for group in brain_groups:\n",
        "    for area in group:\n",
        "        area_to_index[area] = counter\n",
        "        counter += 1\n",
        "\n",
        "# Figure out which areas are in each dataset\n",
        "areas_by_dataset = np.zeros((counter, len(all_ds)), dtype=bool)\n",
        "for j, d in enumerate(all_ds):\n",
        "    for area in np.unique(d['brain_area']):\n",
        "        i = area_to_index[area]\n",
        "        areas_by_dataset[i, j] = True\n"
      ],
      "metadata": {
        "colab": {
          "base_uri": "https://localhost:8080/"
        },
        "id": "R-TrPD1RaSdE",
        "outputId": "c3a92c69-bffe-456e-9494-45004b9d8b0a"
      },
      "execution_count": 3,
      "outputs": [
        {
          "output_type": "stream",
          "name": "stdout",
          "text": [
            "time: 5.69 ms (started: 2023-07-20 00:21:18 +00:00)\n"
          ]
        }
      ]
    },
    {
      "cell_type": "code",
      "source": [
        "DATASET_IDX = 11\n",
        "curr_ds = all_ds[DATASET_IDX]\n",
        "\n",
        "dt = curr_ds[\"bin_size\"]\n",
        "NUM_NEURONS_RECORDED = curr_ds[\"spks\"].shape[0]\n",
        "NUM_TRIALS = curr_ds[\"spks\"].shape[1]\n",
        "NUM_BINNED_TIMES = curr_ds[\"spks\"].shape[2]\n",
        "\n",
        "if DATASET_IDX != 11:\n",
        "    raise Exception(\"Code is only meant for DATASET_IDX=11\")\n",
        "else:\n",
        "    NUM_REGIONS = 4\n",
        "    NUM_NEURONS_RECORDED = len(curr_ds[\"brain_area\"])  # The string idx version of\n",
        "\n",
        "brain_subregions = NUM_REGIONS * np.ones(NUM_NEURONS_RECORDED, )  # last one is \"other\"\n",
        "for j in range(NUM_REGIONS):\n",
        "  brain_subregions[\n",
        "      np.isin(curr_ds['brain_area'], brain_groups[j])\n",
        "      ] = j  # assign a number to each region\n"
      ],
      "metadata": {
        "colab": {
          "base_uri": "https://localhost:8080/"
        },
        "id": "UKkzVgrtaUIK",
        "outputId": "50a9a07a-0b81-4d48-8443-8abf8512f531"
      },
      "execution_count": 4,
      "outputs": [
        {
          "output_type": "stream",
          "name": "stdout",
          "text": [
            "time: 2.6 ms (started: 2023-07-20 00:21:18 +00:00)\n"
          ]
        }
      ]
    },
    {
      "cell_type": "markdown",
      "source": [
        "# Creating the dataset\n",
        "\n",
        "1) Create the labels\n",
        "\n",
        "2) Create a dataset dictionary where the keys are brain regions and the values are all the neuron readings that are in that region\n",
        "\n",
        "3) Create a dataset dictionary where the keys are brain areas (sub-regions) and the values are all the neuron readings that are in that area/sub-region"
      ],
      "metadata": {
        "id": "YWUD2SeXvb79"
      }
    },
    {
      "cell_type": "code",
      "source": [
        "LABELS = curr_ds[\"response\"]  # RIGHT - NO_GO - LEFT (-1, 0, 1)\n",
        "y = LABELS"
      ],
      "metadata": {
        "colab": {
          "base_uri": "https://localhost:8080/"
        },
        "id": "KdR8dZCikHnf",
        "outputId": "28c6b16b-b879-4850-9ab9-55de93d2b451"
      },
      "execution_count": 6,
      "outputs": [
        {
          "output_type": "stream",
          "name": "stdout",
          "text": [
            "time: 760 µs (started: 2023-07-20 00:23:20 +00:00)\n"
          ]
        }
      ]
    },
    {
      "cell_type": "code",
      "source": [
        "def log_shapes(ds):\n",
        "    _ds = ds['spks']\n",
        "    print(f\"All spikes shape: {_ds.shape}\")\n",
        "    _ds_brain_region = _ds[brain_subregions == 0]\n",
        "    print(f\"\\t- Spike shape for sample brain region (0-th): {_ds_brain_region.shape}\")\n",
        "\n",
        "    _ds_0th_left_response = _ds_brain_region[:, y >= 0]\n",
        "    print(f\"\\t- Spike shape for sample brain region (0-th) left responses: {_ds_0th_left_response.shape}\")\n",
        "\n",
        "    averaged_over_left_response = _ds_0th_left_response.mean(axis=(0, 1))\n",
        "    print(f\"\\t- Averaged brain region (0-th) left responses: {averaged_over_left_response.shape}\")\n",
        "\n",
        "log_shapes(curr_ds)\n"
      ],
      "metadata": {
        "colab": {
          "base_uri": "https://localhost:8080/"
        },
        "id": "M-ydT0MKi6zg",
        "outputId": "d905f237-958c-4c33-94f3-0879b25338a7"
      },
      "execution_count": 9,
      "outputs": [
        {
          "output_type": "stream",
          "name": "stdout",
          "text": [
            "All spikes shape: (698, 340, 250)\n",
            "\t- Spike shape for sample brain region (0-th): (145, 340, 250)\n",
            "\t- Spike shape for sample brain region (0-th) left responses: (145, 199, 250)\n",
            "\t- Averaged brain region (0-th) left responses: (250,)\n",
            "time: 60.2 ms (started: 2023-07-20 00:23:35 +00:00)\n"
          ]
        }
      ]
    },
    {
      "cell_type": "code",
      "source": [
        "# def dataset_by_brain_region(num_regions, ds):\n",
        "#     spike_partitioned = {}  # brain region to spike mapping\n",
        "#     for i in range(num_regions):\n",
        "#         spks = ds[\"spks\"][brain_subregions == j]\n",
        "#         spikes_for_left_response = spks[:, y < 0]\n",
        "#         spikes_for_right_response = spks[:, y > 0]\n",
        "#         spikes_for_no_response = spks[:, y == 0]\n",
        "\n",
        "#         spike_partitioned[regions[i]] = [\n",
        "#             spikes_for_left_response,\n",
        "#             spikes_for_no_response,\n",
        "#             spikes_for_right_response\n",
        "#         ]\n",
        "#     return spike_partitioned\n",
        "\n",
        "# brain_region_data_dict = dataset_by_brain_region(NUM_REGIONS + 1, curr_ds)\n",
        "\n",
        "\n",
        "def dataset_by_subregion(arr_of_subregions, ds):\n",
        "    spike_partitioned = {}  # brain region to spike mapping\n",
        "    unique_subregions = set(arr_of_subregions)\n",
        "    for subregion in unique_subregions:\n",
        "        subregion_idxs = arr_of_subregions == subregion\n",
        "        subregion_data = ds[\"spks\"][subregion_idxs]\n",
        "\n",
        "        spikes_for_left_response = subregion_data[:, y > 0]\n",
        "        spikes_for_right_response = subregion_data[:, y > 0]\n",
        "        spikes_for_no_response = subregion_data[:, y == 0]\n",
        "\n",
        "        spike_partitioned[subregion] = [\n",
        "            spikes_for_left_response,\n",
        "            spikes_for_no_response,\n",
        "            spikes_for_right_response\n",
        "        ]\n",
        "    return spike_partitioned\n",
        "\n",
        "subregion_data_dict = dataset_by_subregion(curr_ds[\"brain_area\"], curr_ds)"
      ],
      "metadata": {
        "colab": {
          "base_uri": "https://localhost:8080/"
        },
        "id": "ukGSq1aDibUS",
        "outputId": "5107359f-2667-4f21-c8d2-3bbae49c1989"
      },
      "execution_count": 29,
      "outputs": [
        {
          "output_type": "stream",
          "name": "stdout",
          "text": [
            "time: 81.8 ms (started: 2023-07-20 00:55:20 +00:00)\n"
          ]
        }
      ]
    },
    {
      "cell_type": "code",
      "source": [
        "\n",
        "\"\"\"\n",
        "[\"VISa\", \"VISam\", \"VISl\", \"VISp\", \"VISpm\", \"VISrl\"],  # visual cortex\n",
        "[\"CL\", \"LD\", \"LGd\", \"LH\", \"LP\", \"MD\", \"MG\", \"PO\", \"POL\", \"PT\", \"RT\", \"SPF\", \"TH\", \"VAL\", \"VPL\", \"VPM\"], # thalamus\n",
        "[\"CA\", \"CA1\", \"CA2\", \"CA3\", \"DG\", \"SUB\", \"POST\"],  # hippocampal\n",
        "[\"ACA\", \"AUD\", \"COA\", \"DP\", \"ILA\", \"MOp\", \"MOs\", \"OLF\", \"ORB\", \"ORBm\", \"PIR\", \"PL\", \"SSp\", \"SSs\", \"RSP\",\"TT\"],  # non-visual cortex\n",
        "[\"APN\", \"IC\", \"MB\", \"MRN\", \"NB\", \"PAG\", \"RN\", \"SCs\", \"SCm\", \"SCig\", \"SCsg\", \"ZI\"],  # midbrain\n",
        "[\"ACB\", \"CP\", \"GPe\", \"LS\", \"LSc\", \"LSr\", \"MS\", \"OT\", \"SNr\", \"SI\"],  # basal ganglia\n",
        "[\"BLA\", \"BMA\", \"EP\", \"EPd\", \"MEA\"]  # cortical subplate\n",
        "\"\"\"\n",
        "\n",
        "for k, v in subregion_data_dict.items():\n",
        "    print(k, v[0].shape, v[1].shape, v[2].shape)\n"
      ],
      "metadata": {
        "colab": {
          "base_uri": "https://localhost:8080/"
        },
        "id": "48y6Yqb4t5Up",
        "outputId": "8f2a0d52-6b78-4961-ef09-20135b7b68c8"
      },
      "execution_count": 26,
      "outputs": [
        {
          "output_type": "stream",
          "name": "stdout",
          "text": [
            "SUB (105, 141, 250) (105, 64, 250) (105, 135, 250)\n",
            "VISam (79, 141, 250) (79, 64, 250) (79, 135, 250)\n",
            "LH (18, 141, 250) (18, 64, 250) (18, 135, 250)\n",
            "CA1 (50, 141, 250) (50, 64, 250) (50, 135, 250)\n",
            "MD (126, 141, 250) (126, 64, 250) (126, 135, 250)\n",
            "PL (56, 141, 250) (56, 64, 250) (56, 135, 250)\n",
            "ACA (16, 141, 250) (16, 64, 250) (16, 135, 250)\n",
            "VISp (66, 141, 250) (66, 64, 250) (66, 135, 250)\n",
            "LGd (11, 141, 250) (11, 64, 250) (11, 135, 250)\n",
            "root (100, 141, 250) (100, 64, 250) (100, 135, 250)\n",
            "DG (65, 141, 250) (65, 64, 250) (65, 135, 250)\n",
            "MOs (6, 141, 250) (6, 64, 250) (6, 135, 250)\n",
            "time: 11.9 ms (started: 2023-07-20 00:45:54 +00:00)\n"
          ]
        }
      ]
    },
    {
      "cell_type": "code",
      "source": [
        "for k, v in brain_region_data_dict.items():\n",
        "    print(k, v[0].shape, v[1].shape, v[2].shape)"
      ],
      "metadata": {
        "colab": {
          "base_uri": "https://localhost:8080/"
        },
        "id": "zdWK822Vkn4W",
        "outputId": "63a757ae-3307-45ea-a021-850133b55538"
      },
      "execution_count": 28,
      "outputs": [
        {
          "output_type": "stream",
          "name": "stdout",
          "text": [
            "vis ctx (78, 141, 250) (78, 64, 250) (78, 135, 250)\n",
            "thal (78, 141, 250) (78, 64, 250) (78, 135, 250)\n",
            "hipp (78, 141, 250) (78, 64, 250) (78, 135, 250)\n",
            "other ctx (78, 141, 250) (78, 64, 250) (78, 135, 250)\n",
            "midbrain (78, 141, 250) (78, 64, 250) (78, 135, 250)\n",
            "time: 1.1 ms (started: 2023-07-20 00:46:24 +00:00)\n"
          ]
        }
      ]
    },
    {
      "cell_type": "code",
      "source": [],
      "metadata": {
        "id": "PB_JDrg0uRQg"
      },
      "execution_count": null,
      "outputs": []
    }
  ]
}