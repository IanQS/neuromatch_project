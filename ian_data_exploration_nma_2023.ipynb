{
  "nbformat": 4,
  "nbformat_minor": 0,
  "metadata": {
    "colab": {
      "provenance": [],
      "authorship_tag": "ABX9TyO+gwiH9k1ADM2EW2lTyKeO",
      "include_colab_link": true
    },
    "kernelspec": {
      "name": "python3",
      "display_name": "Python 3"
    },
    "language_info": {
      "name": "python"
    }
  },
  "cells": [
    {
      "cell_type": "markdown",
      "metadata": {
        "id": "view-in-github",
        "colab_type": "text"
      },
      "source": [
        "<a href=\"https://colab.research.google.com/github/IanQS/neuromatch_project/blob/main/ian_data_exploration_nma_2023.ipynb\" target=\"_parent\"><img src=\"https://colab.research.google.com/assets/colab-badge.svg\" alt=\"Open In Colab\"/></a>"
      ]
    },
    {
      "cell_type": "code",
      "execution_count": null,
      "metadata": {
        "id": "v509JcIMdNP6"
      },
      "outputs": [],
      "source": [
        "!echo \"https://ibl.flatironinstitute.org/public/mainenlab/Subjects/ZFM-01576/2020-12-01/001/alf/probe00/pykilosort/spikes.clusters.9f648cc5-9574-410a-9f5c-717cb5e1f7b8.npy\" >> srcs.txt\n",
        "!echo \"https://ibl.flatironinstitute.org/public/mainenlab/Subjects/ZFM-01576/2020-12-01/001/alf/probe00/pykilosort/spikes.times.cbe0311b-075a-4f3d-a825-ebf5666990a4.npy\" >> srcs.txt\n",
        "\n",
        "!cat srcs.txt | xargs -n 1 -P 2 wget -q"
      ]
    }
  ]
}